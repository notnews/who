{
 "cells": [
  {
   "cell_type": "code",
   "execution_count": 5,
   "metadata": {
    "ExecuteTime": {
     "end_time": "2020-12-25T13:04:34.161577Z",
     "start_time": "2020-12-25T13:04:34.147121Z"
    }
   },
   "outputs": [],
   "source": [
    "import os\n",
    "import pandas as pd\n",
    "from IPython.display import clear_output\n",
    "\n",
    "pd.set_option('display.max_rows', 500)\n",
    "pd.set_option('display.max_columns', 50)"
   ]
  },
  {
   "cell_type": "code",
   "execution_count": 6,
   "metadata": {
    "ExecuteTime": {
     "end_time": "2020-12-25T13:04:34.239869Z",
     "start_time": "2020-12-25T13:04:34.225456Z"
    }
   },
   "outputs": [],
   "source": [
    "SEARCHRESULTS_FP = os.path.join('..', '..', 'who-lf\\search-names\\search', 'search_results.csv')"
   ]
  },
  {
   "cell_type": "code",
   "execution_count": 7,
   "metadata": {
    "ExecuteTime": {
     "end_time": "2020-12-25T13:05:34.659020Z",
     "start_time": "2020-12-25T13:04:34.303888Z"
    },
    "code_folding": [
     0
    ],
    "scrolled": true
   },
   "outputs": [
    {
     "name": "stderr",
     "output_type": "stream",
     "text": [
      "D:\\ProgramData\\Anaconda3\\lib\\site-packages\\IPython\\core\\interactiveshell.py:3146: DtypeWarning: Columns (4,5,8) have mixed types.Specify dtype option on import or set low_memory=False.\n",
      "  interactivity=interactivity, compiler=compiler, result=result)\n"
     ]
    },
    {
     "data": {
      "text/plain": [
       "[' resident hall',\n",
       " 'president all',\n",
       " 'president heard',\n",
       " 'bobby shriver',\n",
       " 'president ball',\n",
       " 'president call',\n",
       " 'bob shiver',\n",
       " 'president shall',\n",
       " 'president brown',\n",
       " 'president hill',\n",
       " 'morris udall',\n",
       " 'president, shriver',\n",
       " 'candidate all',\n",
       " 'president shall;president shall',\n",
       " 'president halls',\n",
       " 'president hal ',\n",
       " 'president call;president call;president call',\n",
       " 'president shall;president shall;president shall;president shall',\n",
       " 'candidate ball',\n",
       " 'president hall',\n",
       " 'candidate board',\n",
       " 'gus hall',\n",
       " 'president bears',\n",
       " 'president call;president call',\n",
       " 'president rall',\n",
       " 'president shall;president shall;president shall',\n",
       " 'candidate @all',\n",
       " 'president half',\n",
       " 'candidate \"all',\n",
       " 'president call;candidate call;president call',\n",
       " 'president fall',\n",
       " 'lyndon larouche',\n",
       " 'president thompson',\n",
       " 'president, brown',\n",
       " ',bobby shriver',\n",
       " 'president call;president shall',\n",
       " 'president shall;president shall;president shall;president shall;president shall',\n",
       " 'president shall;president shall;president shall;president shall;president shall;president shall;president shall;president shall;president shall;president shall;president shall;president shall;president shall;president shall;president shall;president shall',\n",
       " 'candidate brown',\n",
       " 'edward bear ;edward bear ',\n",
       " 'edmund brown',\n",
       " 'edmund brown;edmund brown',\n",
       " 'morris udal',\n",
       " 'president shall;president shall;president shall;presidentshall;president shall;president shall;president shall;president shall;president shall',\n",
       " 'candidate half',\n",
       " 'president all;president all;president all',\n",
       " 'candidate shall',\n",
       " 'president hale',\n",
       " 'lyndon la rouche',\n",
       " 'president. brown',\n",
       " 'president all;president call',\n",
       " 'gus hall;gus hall',\n",
       " 'president bead',\n",
       " 'edmond brown',\n",
       " 'presidentshall;president shall',\n",
       " 'president all;president all',\n",
       " 'candidate call',\n",
       " 'president board',\n",
       " 'president fall;president call',\n",
       " 'candidate fall',\n",
       " 'lyndon larouche;lyndon larouche',\n",
       " 'president pall',\n",
       " 'president heard;president heard',\n",
       " 'candidate grown',\n",
       " 'president shall;candidate shall;president shall;president shall;president shall',\n",
       " 'president shall;president shall;presidentshall',\n",
       " 'bob shriner',\n",
       " 'president wall',\n",
       " 'president bear ',\n",
       " 'president beand',\n",
       " 'president tall',\n",
       " 'candidate all;candidate all',\n",
       " 'president halt',\n",
       " 'president all;candidate all',\n",
       " 'president shall;president shall;president shall;president shall;president shall;president shall;president shall;president shall;president shall;president shall;president shall',\n",
       " 'president call;president all',\n",
       " 'president bears;president bears',\n",
       " 'president holl',\n",
       " 'president board;president board',\n",
       " 'candidate, brown',\n",
       " 'candidate. udall',\n",
       " 'candidates hall',\n",
       " 'president shall;president shall;president shall;president shall;president shall;president shall',\n",
       " 'president hell',\n",
       " 'candidate, brown;candidate brown',\n",
       " 'president shall;president all',\n",
       " 'candidate heard',\n",
       " 'president call;candidate call;candidate call',\n",
       " 'president.hall',\n",
       " 'president shall;president shall;president shall;president shall;president shall;president shall;president shall;president shall;president shall;president shall;president shall;president shall;president shall;president shall;president shall;president shall;president shall',\n",
       " 'candidate shall;candidate shall',\n",
       " 'candidate bears',\n",
       " 'edward bear ',\n",
       " 'bob shriver',\n",
       " 'candidate wall',\n",
       " 'presidentshall',\n",
       " 'president half;president half',\n",
       " 'david mcreynolds',\n",
       " 'president shall;president shall;president shall;president shall;president shall;president shall;president shall;president shall;president shall;president shall;president shall;president shall;president shall;president shall;president shall',\n",
       " 'president shall;candidate all',\n",
       " 'candidato brown',\n",
       " 'presidents hall',\n",
       " 'president crown',\n",
       " 'president mall',\n",
       " 'candidate thompson',\n",
       " 'candidatehall',\n",
       " 'candidate hell',\n",
       " 'bobby shriver;bobby shriver',\n",
       " 'president shall;president shall;president shall;president shall;president shall;president shall;president shall;president shall;president shall;president shall;president shall;president shall;presidentshall;president shall;president shall;president shall',\n",
       " 'morris udall;morris udall;morris udall;morris udall;morris udall;morris udall;morris udall;morris udall',\n",
       " 'ed beard',\n",
       " 'president bears;president bears;president bears',\n",
       " 'robert shriver',\n",
       " 'have mcreynolds',\n",
       " 'president? thomson',\n",
       " 'president bear ;president bear ',\n",
       " 'candidate haul',\n",
       " 'morris udall;morris udall',\n",
       " 'president ball;president ball',\n",
       " 'president eard',\n",
       " 'candidateshall',\n",
       " 'candidate call;president call',\n",
       " 'president hal ;president hall',\n",
       " 'president all;president shall;president shall',\n",
       " 'president. brown;president. brown',\n",
       " 'resident hall',\n",
       " 'candidate hill',\n",
       " 'candidate .all',\n",
       " 'robert s hriver',\n",
       " 'edmund brown;edmund brown;edmund brown',\n",
       " 'president bard',\n",
       " 'president haall',\n",
       " 'bobbyshriver',\n",
       " 'candidate bear ',\n",
       " 'edward beard',\n",
       " 'president chall',\n",
       " 'edward bear',\n",
       " 'candidate rall',\n",
       " 'president fall;president shall',\n",
       " 'president blown',\n",
       " 'candidate all;president all;candidate all',\n",
       " 'candidate. brown']"
      ]
     },
     "execution_count": 7,
     "metadata": {},
     "output_type": "execute_result"
    }
   ],
   "source": [
    "usecols = [\n",
    "    'name1.uniqid',\n",
    "    'name1.n',\n",
    "    'name1.match',\n",
    "    'name1.start',\n",
    "    'name1.end',\n",
    "    'name2.uniqid',\n",
    "    'name2.n',\n",
    "    'name2.match',\n",
    "    'name2.start',\n",
    "    'name2.end',\n",
    "    'name3.uniqid',\n",
    "    'name3.n',\n",
    "    'name3.match',\n",
    "    'name3.start',\n",
    "    'name3.end',\n",
    "    'name4.uniqid',\n",
    "    'name4.n',\n",
    "    'name4.match',\n",
    "    'name4.start',\n",
    "    'name4.end',\n",
    "    'name5.uniqid',\n",
    "    'name5.n',\n",
    "    'name5.match',\n",
    "    'name5.start',\n",
    "    'name5.end',\n",
    "    'name6.uniqid',\n",
    "    'name6.n',\n",
    "    'name6.match',\n",
    "    'name6.start',\n",
    "    'name6.end',\n",
    "    'name7.uniqid',\n",
    "    'name7.n',\n",
    "    'name7.match',\n",
    "    'name7.start',\n",
    "    'name7.end',\n",
    "    'name8.uniqid',\n",
    "    'name8.n',\n",
    "    'name8.match',\n",
    "    'name8.start',\n",
    "    'name8.end',\n",
    "    'name9.uniqid',\n",
    "    'name9.n',\n",
    "    'name9.match',\n",
    "    'name9.start',\n",
    "    'name9.end',\n",
    "    'name10.uniqid',\n",
    "    'name10.n',\n",
    "    'name10.match',\n",
    "    'name10.start',\n",
    "    'name10.end',\n",
    "    'name11.uniqid',\n",
    "    'name11.n',\n",
    "    'name11.match',\n",
    "    'name11.start',\n",
    "    'name11.end',\n",
    "    'name12.uniqid',\n",
    "    'name12.n',\n",
    "    'name12.match',\n",
    "    'name12.start',\n",
    "    'name12.end',\n",
    "    'name13.uniqid',\n",
    "    'name13.n',\n",
    "    'name13.match',\n",
    "    'name13.start',\n",
    "    'name13.end',\n",
    "    'name14.uniqid',\n",
    "    'name14.n',\n",
    "    'name14.match',\n",
    "    'name14.start',\n",
    "    'name14.end',\n",
    "    'name15.uniqid',\n",
    "    'name15.n',\n",
    "    'name15.match',\n",
    "    'name15.start',\n",
    "    'name15.end',\n",
    "    'name16.uniqid',\n",
    "    'name16.n',\n",
    "    'name16.match',\n",
    "    'name16.start',\n",
    "    'name16.end',\n",
    "    'name17.uniqid',\n",
    "    'name17.n',\n",
    "    'name17.match',\n",
    "    'name17.start',\n",
    "    'name17.end',\n",
    "    'name18.uniqid',\n",
    "    'name18.n',\n",
    "    'name18.match',\n",
    "    'name18.start',\n",
    "    'name18.end',\n",
    "    'name19.uniqid',\n",
    "    'name19.n',\n",
    "    'name19.match',\n",
    "    'name19.start',\n",
    "    'name19.end',\n",
    "    'name20.uniqid',\n",
    "    'name20.n',\n",
    "    'name20.match',\n",
    "    'name20.start',\n",
    "    'name20.end',\n",
    "    'count']\n",
    "cctv = (pd.read_csv(SEARCHRESULTS_FP, usecols=usecols)\n",
    "        .query('count>0')\n",
    "       )\n",
    "\n",
    "cctv['name1.match'].unique().tolist()"
   ]
  },
  {
   "cell_type": "code",
   "execution_count": 8,
   "metadata": {
    "ExecuteTime": {
     "end_time": "2020-12-25T13:05:34.739038Z",
     "start_time": "2020-12-25T13:05:34.724036Z"
    }
   },
   "outputs": [
    {
     "data": {
      "text/plain": [
       "[1.0, 9.0, 3.0, 2.0, 4.0, 5.0, 8.0, 6.0]"
      ]
     },
     "execution_count": 8,
     "metadata": {},
     "output_type": "execute_result"
    }
   ],
   "source": [
    "cctv['name1.uniqid'].unique().tolist()"
   ]
  },
  {
   "cell_type": "code",
   "execution_count": null,
   "metadata": {},
   "outputs": [],
   "source": []
  }
 ],
 "metadata": {
  "kernelspec": {
   "display_name": "Python 3",
   "language": "python",
   "name": "python3"
  },
  "language_info": {
   "codemirror_mode": {
    "name": "ipython",
    "version": 3
   },
   "file_extension": ".py",
   "mimetype": "text/x-python",
   "name": "python",
   "nbconvert_exporter": "python",
   "pygments_lexer": "ipython3",
   "version": "3.7.6"
  },
  "toc": {
   "base_numbering": 1,
   "nav_menu": {},
   "number_sections": true,
   "sideBar": true,
   "skip_h1_title": false,
   "title_cell": "Table of Contents",
   "title_sidebar": "Contents",
   "toc_cell": false,
   "toc_position": {
    "height": "calc(100% - 180px)",
    "left": "10px",
    "top": "150px",
    "width": "165px"
   },
   "toc_section_display": true,
   "toc_window_display": true
  },
  "varInspector": {
   "cols": {
    "lenName": 16,
    "lenType": 16,
    "lenVar": 40
   },
   "kernels_config": {
    "python": {
     "delete_cmd_postfix": "",
     "delete_cmd_prefix": "del ",
     "library": "var_list.py",
     "varRefreshCmd": "print(var_dic_list())"
    },
    "r": {
     "delete_cmd_postfix": ") ",
     "delete_cmd_prefix": "rm(",
     "library": "var_list.r",
     "varRefreshCmd": "cat(var_dic_list()) "
    }
   },
   "oldHeight": 667.77778,
   "position": {
    "height": "40px",
    "left": "1710.81px",
    "right": "20px",
    "top": "59.9583px",
    "width": "350px"
   },
   "types_to_exclude": [
    "module",
    "function",
    "builtin_function_or_method",
    "instance",
    "_Feature"
   ],
   "varInspector_section_display": "none",
   "window_display": true
  }
 },
 "nbformat": 4,
 "nbformat_minor": 2
}
