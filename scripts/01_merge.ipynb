{
 "cells": [
  {
   "cell_type": "code",
   "execution_count": 1,
   "metadata": {
    "ExecuteTime": {
     "end_time": "2020-09-16T01:05:42.820085Z",
     "start_time": "2020-09-16T01:05:42.478544Z"
    }
   },
   "outputs": [],
   "source": [
    "import os\n",
    "import pandas as pd"
   ]
  },
  {
   "cell_type": "code",
   "execution_count": 2,
   "metadata": {
    "ExecuteTime": {
     "end_time": "2020-09-16T01:05:42.828341Z",
     "start_time": "2020-09-16T01:05:42.823435Z"
    }
   },
   "outputs": [],
   "source": [
    "pd.set_option('display.max_rows', 500)\n",
    "pd.set_option('display.max_columns', 50)"
   ]
  },
  {
   "cell_type": "code",
   "execution_count": 3,
   "metadata": {
    "ExecuteTime": {
     "end_time": "2020-09-16T01:05:42.840516Z",
     "start_time": "2020-09-16T01:05:42.833609Z"
    }
   },
   "outputs": [],
   "source": [
    "RAW_FILEPATH = os.path.join('..', 'raw')"
   ]
  },
  {
   "cell_type": "markdown",
   "metadata": {},
   "source": [
    "### Read in DIME and Voteview"
   ]
  },
  {
   "cell_type": "markdown",
   "metadata": {},
   "source": [
    "**Read in voteview** (https://voteview.com/articles/data_help_members)"
   ]
  },
  {
   "cell_type": "code",
   "execution_count": 4,
   "metadata": {
    "ExecuteTime": {
     "end_time": "2020-09-16T01:05:58.542552Z",
     "start_time": "2020-09-16T01:05:42.843649Z"
    },
    "code_folding": []
   },
   "outputs": [],
   "source": [
    "VV_IDENTIFIERS = ['icpsr', 'bioname', 'congress', 'chamber']\n",
    "VV_IDEO = ['nominate_dim1', 'nominate_log_likelihood', 'nominate_geo_mean_probability', 'nokken_poole_dim1']\n",
    "VV_USECOLS = VV_IDENTIFIERS + VV_IDEO\n",
    "\n",
    "vv = pd.read_csv(os.path.join(RAW_FILEPATH, 'HSall_members.csv'), usecols=VV_USECOLS)\n",
    "\n",
    "vv['icpsr'] = vv['icpsr'].astype('str')\n",
    "\n",
    "vv.sort_values(by=['congress', 'icpsr'], ascending=True, inplace=True)\n",
    "\n",
    "# Fill forward, retain latest scores where available\n",
    "for col in  VV_IDEO:\n",
    "    vv[col] = vv.groupby('bioname')[col].apply(lambda x: x.ffill())\n",
    "\n",
    "# Retain lastest obs\n",
    "vv = vv.groupby('icpsr').tail(1)"
   ]
  },
  {
   "cell_type": "markdown",
   "metadata": {},
   "source": [
    "**Read in DIME**"
   ]
  },
  {
   "cell_type": "code",
   "execution_count": 5,
   "metadata": {
    "ExecuteTime": {
     "end_time": "2020-09-16T01:07:04.525890Z",
     "start_time": "2020-09-16T01:05:58.548398Z"
    }
   },
   "outputs": [
    {
     "name": "stderr",
     "output_type": "stream",
     "text": [
      "/home/lucas/anaconda2/lib/python2.7/site-packages/IPython/core/interactiveshell.py:2718: DtypeWarning: Columns (18,21) have mixed types. Specify dtype option on import or set low_memory=False.\n",
      "  interactivity=interactivity, compiler=compiler, result=result)\n"
     ]
    }
   ],
   "source": [
    "DIME_IDENTIFIERS = ['cycle', 'name', 'ICPSR2', 'party', 'state', 'seat', 'district']\n",
    "DIME_IDEOLOGIES = ['recipient.cfscore.dyn', 'dwdime']\n",
    "DIME_USECOLS = DIME_IDENTIFIERS + DIME_IDEOLOGIES\n",
    "\n",
    "dime = pd.read_csv(os.path.join(RAW_FILEPATH, 'dime_recipients_1979_2014.csv'), usecols=DIME_USECOLS)\n",
    "\n",
    "# Drop committees (cf codebook p. 17)\n",
    "dime = dime[~dime['seat'].isin(['federal:committee', 'state:committee', 'federal:527'])]\n",
    "\n",
    "dime.columns = [col.lower() for col in dime.columns]\n",
    "\n",
    "dime.sort_values(by=['cycle', 'icpsr2'], ascending=True, inplace=True)\n",
    "\n",
    "# Fill forward, retain latest scores where available\n",
    "for col in  DIME_IDEOLOGIES:\n",
    "    dime[col] = dime.groupby('name')[col].apply(lambda x: x.ffill())\n",
    "\n",
    "# Remove nominee from ICPSR (only for seem fpr presidential candidates)\n",
    "dime['icpsr2'] = [s.replace('nominee', '') for s in dime['icpsr2']]\n",
    "\n",
    "# Retain last\n",
    "dime = dime.groupby('icpsr2').tail(1)\n",
    "\n",
    "dime.rename(columns={'icpsr2': 'icpsr'}, inplace=True)"
   ]
  },
  {
   "cell_type": "markdown",
   "metadata": {},
   "source": [
    "### Merge"
   ]
  },
  {
   "cell_type": "code",
   "execution_count": 9,
   "metadata": {
    "ExecuteTime": {
     "end_time": "2020-09-16T01:16:51.466860Z",
     "start_time": "2020-09-16T01:16:51.270223Z"
    },
    "scrolled": true
   },
   "outputs": [
    {
     "data": {
      "text/plain": [
       "80982"
      ]
     },
     "execution_count": 9,
     "metadata": {},
     "output_type": "execute_result"
    }
   ],
   "source": [
    "df = dime.merge(vv, how='outer', on='icpsr')\n",
    "\n",
    "df.rename(columns={'name': 'dime_name', 'bioname': 'vv_name'}, inplace=True)\n",
    "\n",
    "len(df)"
   ]
  },
  {
   "cell_type": "code",
   "execution_count": 10,
   "metadata": {
    "ExecuteTime": {
     "end_time": "2020-09-16T01:16:53.978397Z",
     "start_time": "2020-09-16T01:16:53.883662Z"
    }
   },
   "outputs": [
    {
     "data": {
      "text/html": [
       "<div>\n",
       "<style scoped>\n",
       "    .dataframe tbody tr th:only-of-type {\n",
       "        vertical-align: middle;\n",
       "    }\n",
       "\n",
       "    .dataframe tbody tr th {\n",
       "        vertical-align: top;\n",
       "    }\n",
       "\n",
       "    .dataframe thead th {\n",
       "        text-align: right;\n",
       "    }\n",
       "</style>\n",
       "<table border=\"1\" class=\"dataframe\">\n",
       "  <thead>\n",
       "    <tr style=\"text-align: right;\">\n",
       "      <th></th>\n",
       "      <th>cycle</th>\n",
       "      <th>icpsr</th>\n",
       "      <th>dime_name</th>\n",
       "      <th>party</th>\n",
       "      <th>state</th>\n",
       "      <th>seat</th>\n",
       "      <th>district</th>\n",
       "      <th>recipient.cfscore.dyn</th>\n",
       "      <th>dwdime</th>\n",
       "      <th>congress</th>\n",
       "      <th>chamber</th>\n",
       "      <th>vv_name</th>\n",
       "      <th>nominate_dim1</th>\n",
       "      <th>nominate_log_likelihood</th>\n",
       "      <th>nominate_geo_mean_probability</th>\n",
       "      <th>nokken_poole_dim1</th>\n",
       "    </tr>\n",
       "  </thead>\n",
       "  <tbody>\n",
       "    <tr>\n",
       "      <th>0</th>\n",
       "      <td>1980.0</td>\n",
       "      <td>10511</td>\n",
       "      <td>corman, james c.</td>\n",
       "      <td>100</td>\n",
       "      <td>CA</td>\n",
       "      <td>federal:house</td>\n",
       "      <td>CA21</td>\n",
       "      <td>-0.579</td>\n",
       "      <td>-0.473</td>\n",
       "      <td>96.0</td>\n",
       "      <td>House</td>\n",
       "      <td>CORMAN, James Charles</td>\n",
       "      <td>-0.530</td>\n",
       "      <td>-153.04610</td>\n",
       "      <td>0.846</td>\n",
       "      <td>-0.553</td>\n",
       "    </tr>\n",
       "    <tr>\n",
       "      <th>1</th>\n",
       "      <td>1980.0</td>\n",
       "      <td>10525</td>\n",
       "      <td>harsha, william h.</td>\n",
       "      <td>200</td>\n",
       "      <td>OH</td>\n",
       "      <td>federal:house</td>\n",
       "      <td>OH06</td>\n",
       "      <td>0.977</td>\n",
       "      <td>NaN</td>\n",
       "      <td>96.0</td>\n",
       "      <td>House</td>\n",
       "      <td>HARSHA, William Howard</td>\n",
       "      <td>0.188</td>\n",
       "      <td>-336.03193</td>\n",
       "      <td>0.686</td>\n",
       "      <td>0.218</td>\n",
       "    </tr>\n",
       "    <tr>\n",
       "      <th>2</th>\n",
       "      <td>1980.0</td>\n",
       "      <td>10528</td>\n",
       "      <td>ichord, richard h.</td>\n",
       "      <td>100</td>\n",
       "      <td>MO</td>\n",
       "      <td>federal:house</td>\n",
       "      <td>MO08</td>\n",
       "      <td>0.383</td>\n",
       "      <td>NaN</td>\n",
       "      <td>96.0</td>\n",
       "      <td>House</td>\n",
       "      <td>ICHORD, Richard Howard, II</td>\n",
       "      <td>0.001</td>\n",
       "      <td>-457.45577</td>\n",
       "      <td>0.598</td>\n",
       "      <td>0.270</td>\n",
       "    </tr>\n",
       "    <tr>\n",
       "      <th>3</th>\n",
       "      <td>1980.0</td>\n",
       "      <td>10540</td>\n",
       "      <td>nedzi, lucien</td>\n",
       "      <td>100</td>\n",
       "      <td>MI</td>\n",
       "      <td>federal:house</td>\n",
       "      <td>MI14</td>\n",
       "      <td>-0.600</td>\n",
       "      <td>NaN</td>\n",
       "      <td>96.0</td>\n",
       "      <td>House</td>\n",
       "      <td>NEDZI, Lucien Norbert</td>\n",
       "      <td>-0.427</td>\n",
       "      <td>-232.46035</td>\n",
       "      <td>0.773</td>\n",
       "      <td>-0.508</td>\n",
       "    </tr>\n",
       "    <tr>\n",
       "      <th>4</th>\n",
       "      <td>1980.0</td>\n",
       "      <td>10582</td>\n",
       "      <td>duncan, robert blackford</td>\n",
       "      <td>100</td>\n",
       "      <td>OR</td>\n",
       "      <td>federal:house</td>\n",
       "      <td>OR03</td>\n",
       "      <td>0.117</td>\n",
       "      <td>-0.282</td>\n",
       "      <td>96.0</td>\n",
       "      <td>House</td>\n",
       "      <td>DUNCAN, Robert Blackford</td>\n",
       "      <td>-0.341</td>\n",
       "      <td>-310.40422</td>\n",
       "      <td>0.706</td>\n",
       "      <td>-0.348</td>\n",
       "    </tr>\n",
       "    <tr>\n",
       "      <th>5</th>\n",
       "      <td>1980.0</td>\n",
       "      <td>10611</td>\n",
       "      <td>murphy, john m.</td>\n",
       "      <td>100</td>\n",
       "      <td>NY</td>\n",
       "      <td>federal:house</td>\n",
       "      <td>NY17</td>\n",
       "      <td>-0.290</td>\n",
       "      <td>-0.379</td>\n",
       "      <td>96.0</td>\n",
       "      <td>House</td>\n",
       "      <td>MURPHY, John Michael</td>\n",
       "      <td>-0.406</td>\n",
       "      <td>-235.86106</td>\n",
       "      <td>0.743</td>\n",
       "      <td>-0.389</td>\n",
       "    </tr>\n",
       "    <tr>\n",
       "      <th>6</th>\n",
       "      <td>1980.0</td>\n",
       "      <td>10613</td>\n",
       "      <td>patten, edward j.</td>\n",
       "      <td>100</td>\n",
       "      <td>NJ</td>\n",
       "      <td>federal:house</td>\n",
       "      <td>NJ15</td>\n",
       "      <td>-0.506</td>\n",
       "      <td>NaN</td>\n",
       "      <td>96.0</td>\n",
       "      <td>House</td>\n",
       "      <td>PATTEN, Edward James</td>\n",
       "      <td>-0.424</td>\n",
       "      <td>-273.76220</td>\n",
       "      <td>0.759</td>\n",
       "      <td>-0.548</td>\n",
       "    </tr>\n",
       "    <tr>\n",
       "      <th>7</th>\n",
       "      <td>1980.0</td>\n",
       "      <td>10633</td>\n",
       "      <td>van deerlin, lionel mc</td>\n",
       "      <td>100</td>\n",
       "      <td>CA</td>\n",
       "      <td>federal:house</td>\n",
       "      <td>CA42</td>\n",
       "      <td>-0.414</td>\n",
       "      <td>-0.368</td>\n",
       "      <td>96.0</td>\n",
       "      <td>House</td>\n",
       "      <td>VAN DEERLIN, Lionel</td>\n",
       "      <td>-0.401</td>\n",
       "      <td>-213.20417</td>\n",
       "      <td>0.797</td>\n",
       "      <td>-0.470</td>\n",
       "    </tr>\n",
       "    <tr>\n",
       "      <th>8</th>\n",
       "      <td>1980.0</td>\n",
       "      <td>10638</td>\n",
       "      <td>wydler, john w</td>\n",
       "      <td>200</td>\n",
       "      <td>NY</td>\n",
       "      <td>federal:house</td>\n",
       "      <td>NY05</td>\n",
       "      <td>0.573</td>\n",
       "      <td>NaN</td>\n",
       "      <td>96.0</td>\n",
       "      <td>House</td>\n",
       "      <td>WYDLER, John Waldemar</td>\n",
       "      <td>0.277</td>\n",
       "      <td>-412.27567</td>\n",
       "      <td>0.613</td>\n",
       "      <td>0.278</td>\n",
       "    </tr>\n",
       "    <tr>\n",
       "      <th>9</th>\n",
       "      <td>1980.0</td>\n",
       "      <td>10706</td>\n",
       "      <td>buchanan, john h.</td>\n",
       "      <td>200</td>\n",
       "      <td>AL</td>\n",
       "      <td>federal:house</td>\n",
       "      <td>AL06</td>\n",
       "      <td>0.277</td>\n",
       "      <td>0.167</td>\n",
       "      <td>96.0</td>\n",
       "      <td>House</td>\n",
       "      <td>BUCHANAN, John Hall, Jr.</td>\n",
       "      <td>0.146</td>\n",
       "      <td>-507.36818</td>\n",
       "      <td>0.597</td>\n",
       "      <td>0.029</td>\n",
       "    </tr>\n",
       "  </tbody>\n",
       "</table>\n",
       "</div>"
      ],
      "text/plain": [
       "    cycle  icpsr                 dime_name party state           seat  \\\n",
       "0  1980.0  10511          corman, james c.   100    CA  federal:house   \n",
       "1  1980.0  10525        harsha, william h.   200    OH  federal:house   \n",
       "2  1980.0  10528        ichord, richard h.   100    MO  federal:house   \n",
       "3  1980.0  10540             nedzi, lucien   100    MI  federal:house   \n",
       "4  1980.0  10582  duncan, robert blackford   100    OR  federal:house   \n",
       "5  1980.0  10611           murphy, john m.   100    NY  federal:house   \n",
       "6  1980.0  10613         patten, edward j.   100    NJ  federal:house   \n",
       "7  1980.0  10633    van deerlin, lionel mc   100    CA  federal:house   \n",
       "8  1980.0  10638            wydler, john w   200    NY  federal:house   \n",
       "9  1980.0  10706         buchanan, john h.   200    AL  federal:house   \n",
       "\n",
       "  district  recipient.cfscore.dyn  dwdime  congress chamber  \\\n",
       "0     CA21                 -0.579  -0.473      96.0   House   \n",
       "1     OH06                  0.977     NaN      96.0   House   \n",
       "2     MO08                  0.383     NaN      96.0   House   \n",
       "3     MI14                 -0.600     NaN      96.0   House   \n",
       "4     OR03                  0.117  -0.282      96.0   House   \n",
       "5     NY17                 -0.290  -0.379      96.0   House   \n",
       "6     NJ15                 -0.506     NaN      96.0   House   \n",
       "7     CA42                 -0.414  -0.368      96.0   House   \n",
       "8     NY05                  0.573     NaN      96.0   House   \n",
       "9     AL06                  0.277   0.167      96.0   House   \n",
       "\n",
       "                      vv_name  nominate_dim1  nominate_log_likelihood  \\\n",
       "0       CORMAN, James Charles         -0.530               -153.04610   \n",
       "1      HARSHA, William Howard          0.188               -336.03193   \n",
       "2  ICHORD, Richard Howard, II          0.001               -457.45577   \n",
       "3       NEDZI, Lucien Norbert         -0.427               -232.46035   \n",
       "4    DUNCAN, Robert Blackford         -0.341               -310.40422   \n",
       "5        MURPHY, John Michael         -0.406               -235.86106   \n",
       "6        PATTEN, Edward James         -0.424               -273.76220   \n",
       "7         VAN DEERLIN, Lionel         -0.401               -213.20417   \n",
       "8       WYDLER, John Waldemar          0.277               -412.27567   \n",
       "9    BUCHANAN, John Hall, Jr.          0.146               -507.36818   \n",
       "\n",
       "   nominate_geo_mean_probability  nokken_poole_dim1  \n",
       "0                          0.846             -0.553  \n",
       "1                          0.686              0.218  \n",
       "2                          0.598              0.270  \n",
       "3                          0.773             -0.508  \n",
       "4                          0.706             -0.348  \n",
       "5                          0.743             -0.389  \n",
       "6                          0.759             -0.548  \n",
       "7                          0.797             -0.470  \n",
       "8                          0.613              0.278  \n",
       "9                          0.597              0.029  "
      ]
     },
     "execution_count": 10,
     "metadata": {},
     "output_type": "execute_result"
    }
   ],
   "source": [
    "df.head(10)"
   ]
  },
  {
   "cell_type": "code",
   "execution_count": null,
   "metadata": {},
   "outputs": [],
   "source": []
  }
 ],
 "metadata": {
  "kernelspec": {
   "display_name": "Python 3",
   "language": "python",
   "name": "python3"
  },
  "language_info": {
   "codemirror_mode": {
    "name": "ipython",
    "version": 2
   },
   "file_extension": ".py",
   "mimetype": "text/x-python",
   "name": "python",
   "nbconvert_exporter": "python",
   "pygments_lexer": "ipython2",
   "version": "2.7.14"
  },
  "toc": {
   "nav_menu": {},
   "number_sections": true,
   "sideBar": true,
   "skip_h1_title": false,
   "title_cell": "Table of Contents",
   "title_sidebar": "Contents",
   "toc_cell": false,
   "toc_position": {
    "height": "calc(100% - 180px)",
    "left": "10px",
    "top": "150px",
    "width": "254px"
   },
   "toc_section_display": true,
   "toc_window_display": true
  },
  "varInspector": {
   "cols": {
    "lenName": 16,
    "lenType": 16,
    "lenVar": 40
   },
   "kernels_config": {
    "python": {
     "delete_cmd_postfix": "",
     "delete_cmd_prefix": "del ",
     "library": "var_list.py",
     "varRefreshCmd": "print(var_dic_list())"
    },
    "r": {
     "delete_cmd_postfix": ") ",
     "delete_cmd_prefix": "rm(",
     "library": "var_list.r",
     "varRefreshCmd": "cat(var_dic_list()) "
    }
   },
   "position": {
    "height": "690px",
    "left": "1542.83px",
    "right": "20px",
    "top": "32.9844px",
    "width": "350px"
   },
   "types_to_exclude": [
    "module",
    "function",
    "builtin_function_or_method",
    "instance",
    "_Feature"
   ],
   "window_display": true
  }
 },
 "nbformat": 4,
 "nbformat_minor": 2
}
