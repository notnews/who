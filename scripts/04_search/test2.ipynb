{
 "cells": [
  {
   "cell_type": "code",
   "execution_count": 1,
   "metadata": {
    "ExecuteTime": {
     "end_time": "2020-12-17T01:49:56.814257Z",
     "start_time": "2020-12-17T01:49:56.806245Z"
    }
   },
   "outputs": [],
   "source": [
    "import os\n"
   ]
  },
  {
   "cell_type": "code",
   "execution_count": 2,
   "metadata": {
    "ExecuteTime": {
     "end_time": "2020-12-17T01:49:57.100327Z",
     "start_time": "2020-12-17T01:49:57.085327Z"
    }
   },
   "outputs": [],
   "source": [
    "ARCHIVE_LFPATH = os.path.join('..', '..', 'who-lf', 'archive-cc-2017-new-sample.csv')"
   ]
  },
  {
   "cell_type": "code",
   "execution_count": 3,
   "metadata": {
    "ExecuteTime": {
     "end_time": "2020-11-14T07:51:57.838616Z",
     "start_time": "2020-11-14T07:51:57.820613Z"
    }
   },
   "outputs": [
    {
     "data": {
      "text/plain": [
       "'..\\\\..\\\\who-lf\\\\archive-cc-2017-new-sample.csv'"
      ]
     },
     "execution_count": 3,
     "metadata": {},
     "output_type": "execute_result"
    }
   ],
   "source": [
    "ARCHIVE_LFPATH"
   ]
  },
  {
   "cell_type": "code",
   "execution_count": 1,
   "metadata": {
    "ExecuteTime": {
     "end_time": "2020-11-16T12:35:20.084706Z",
     "start_time": "2020-11-16T12:35:05.246119Z"
    }
   },
   "outputs": [
    {
     "name": "stdout",
     "output_type": "stream",
     "text": [
      "[None, None, None, None]\n",
      "Number of unique keywords ID to be search: 16564\n",
      "Number of unique keywords ID to be search: 16564\n",
      "Number of unique keywords ID to be search: 16564\n",
      "Number of unique keywords ID to be search: 16564\n"
     ]
    },
    {
     "name": "stderr",
     "output_type": "stream",
     "text": [
      "Namespace(clean=False, config='search_names.cfg', debug=False, editlength=[(10, 1), (20, 2)], input=\"'archive-cc-2017-new-sample.csv'\", input_file_cols=['uniqid', 'text'], max_name=20, name_id='uniqid', name_search='search_name', namefile='../03_preprocess/deduped_augmented_clean_names.csv', outfile='search_results.csv', overwritten=False, processes=4, search_cols=['uniqid', 'n', 'match', 'start', 'end', 'count'], text='text')\n",
      "Setting up, please wait...\n",
      "Load name file: ../03_preprocess/deduped_augmented_clean_names.csv\n",
      "Traceback (most recent call last):\n",
      "  File \"D:\\who\\scripts\\04_search\\search_names.py\", line 189, in worker\n",
      "    with open(args.input, 'r') as f:\n",
      "FileNotFoundError: [Errno 2] No such file or directory: \"'archive-cc-2017-new-sample.csv'\"\n",
      "Traceback (most recent call last):\n",
      "  File \"D:\\who\\scripts\\04_search\\search_names.py\", line 189, in worker\n",
      "    with open(args.input, 'r') as f:\n",
      "FileNotFoundError: [Errno 2] No such file or directory: \"'archive-cc-2017-new-sample.csv'\"\n",
      "Traceback (most recent call last):\n",
      "  File \"D:\\who\\scripts\\04_search\\search_names.py\", line 189, in worker\n",
      "    with open(args.input, 'r') as f:\n",
      "FileNotFoundError: [Errno 2] No such file or directory: \"'archive-cc-2017-new-sample.csv'\"\n",
      "Traceback (most recent call last):\n",
      "  File \"D:\\who\\scripts\\04_search\\search_names.py\", line 189, in worker\n",
      "    with open(args.input, 'r') as f:\n",
      "FileNotFoundError: [Errno 2] No such file or directory: \"'archive-cc-2017-new-sample.csv'\"\n",
      "Traceback (most recent call last):\n",
      "  File \"search_names.py\", line 292, in <module>\n",
      "    r = args.result_queue.get(timeout=0.1)\n",
      "  File \"<string>\", line 2, in get\n",
      "  File \"D:\\ProgramData\\Anaconda3\\lib\\multiprocessing\\managers.py\", line 834, in _callmethod\n",
      "    raise convert_to_error(kind, result)\n",
      "_queue.Empty\n",
      "\n",
      "During handling of the above exception, another exception occurred:\n",
      "\n",
      "Traceback (most recent call last):\n",
      "  File \"search_names.py\", line 306, in <module>\n",
      "    count = sum(done)\n",
      "TypeError: unsupported operand type(s) for +: 'int' and 'NoneType'\n"
     ]
    }
   ],
   "source": [
    "!python search_names.py 'archive-cc-2017-new-sample.csv'"
   ]
  },
  {
   "cell_type": "code",
   "execution_count": null,
   "metadata": {},
   "outputs": [],
   "source": []
  },
  {
   "cell_type": "code",
   "execution_count": null,
   "metadata": {},
   "outputs": [],
   "source": [
    "# change all open() to not have bytes (b)"
   ]
  }
 ],
 "metadata": {
  "kernelspec": {
   "display_name": "Python 3",
   "language": "python",
   "name": "python3"
  },
  "language_info": {
   "codemirror_mode": {
    "name": "ipython",
    "version": 3
   },
   "file_extension": ".py",
   "mimetype": "text/x-python",
   "name": "python",
   "nbconvert_exporter": "python",
   "pygments_lexer": "ipython3",
   "version": "3.7.6"
  },
  "toc": {
   "base_numbering": 1,
   "nav_menu": {},
   "number_sections": true,
   "sideBar": true,
   "skip_h1_title": false,
   "title_cell": "Table of Contents",
   "title_sidebar": "Contents",
   "toc_cell": false,
   "toc_position": {},
   "toc_section_display": true,
   "toc_window_display": false
  },
  "varInspector": {
   "cols": {
    "lenName": 16,
    "lenType": 16,
    "lenVar": 40
   },
   "kernels_config": {
    "python": {
     "delete_cmd_postfix": "",
     "delete_cmd_prefix": "del ",
     "library": "var_list.py",
     "varRefreshCmd": "print(var_dic_list())"
    },
    "r": {
     "delete_cmd_postfix": ") ",
     "delete_cmd_prefix": "rm(",
     "library": "var_list.r",
     "varRefreshCmd": "cat(var_dic_list()) "
    }
   },
   "types_to_exclude": [
    "module",
    "function",
    "builtin_function_or_method",
    "instance",
    "_Feature"
   ],
   "window_display": false
  }
 },
 "nbformat": 4,
 "nbformat_minor": 4
}
