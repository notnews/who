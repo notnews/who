{
 "cells": [
  {
   "cell_type": "code",
   "execution_count": 1,
   "metadata": {
    "ExecuteTime": {
     "end_time": "2020-11-07T06:34:12.556058Z",
     "start_time": "2020-11-07T06:34:12.547057Z"
    }
   },
   "outputs": [],
   "source": [
    "import os\n"
   ]
  },
  {
   "cell_type": "code",
   "execution_count": 2,
   "metadata": {
    "ExecuteTime": {
     "end_time": "2020-11-07T06:34:12.746313Z",
     "start_time": "2020-11-07T06:34:12.744313Z"
    }
   },
   "outputs": [],
   "source": [
    "ARCHIVE_LFPATH = os.path.join('..', '..', 'who-lf', 'archive-cc-2017-new-sample.csv')"
   ]
  },
  {
   "cell_type": "code",
   "execution_count": 3,
   "metadata": {
    "ExecuteTime": {
     "end_time": "2020-11-07T06:34:26.584973Z",
     "start_time": "2020-11-07T06:34:26.576972Z"
    }
   },
   "outputs": [
    {
     "data": {
      "text/plain": [
       "'..\\\\..\\\\who-lf\\\\archive-cc-2017-new-sample.csv'"
      ]
     },
     "execution_count": 3,
     "metadata": {},
     "output_type": "execute_result"
    }
   ],
   "source": [
    "ARCHIVE_LFPATH"
   ]
  },
  {
   "cell_type": "code",
   "execution_count": 13,
   "metadata": {
    "ExecuteTime": {
     "end_time": "2020-11-07T06:43:40.630671Z",
     "start_time": "2020-11-07T06:43:39.159487Z"
    }
   },
   "outputs": [
    {
     "name": "stderr",
     "output_type": "stream",
     "text": [
      "Namespace(clean=False, config='search_names.cfg', debug=False, editlength=[(10, 1), (20, 2)], input='ARCHIVE_LFPATH', input_file_cols=['uniqid', 'text'], max_name=20, name_id='uniqid', name_search='search_name', namefile='../03_preprocess/deduped_augmented_clean_names.csv', outfile='search_results.csv', overwritten=False, processes=4, search_cols=['uniqid', 'n', 'match', 'start', 'end', 'count'], text='text')\n",
      "Setting up, please wait...\n",
      "Load name file: ../03_preprocess/deduped_augmented_clean_names.csv\n",
      "Traceback (most recent call last):\n",
      "  File \"search_names.py\", line 238, in <module>\n",
      "    load_names_file(args)\n",
      "  File \"search_names.py\", line 160, in load_names_file\n",
      "    for r in reader:\n",
      "  File \"D:\\ProgramData\\Anaconda3\\lib\\csv.py\", line 111, in __next__\n",
      "    self.fieldnames\n",
      "  File \"D:\\ProgramData\\Anaconda3\\lib\\csv.py\", line 98, in fieldnames\n",
      "    self._fieldnames = next(self.reader)\n",
      "_csv.Error: iterator should return strings, not bytes (did you open the file in text mode?)\n"
     ]
    }
   ],
   "source": [
    "!python search_names.py ARCHIVE_LFPATH"
   ]
  },
  {
   "cell_type": "code",
   "execution_count": null,
   "metadata": {},
   "outputs": [],
   "source": []
  }
 ],
 "metadata": {
  "kernelspec": {
   "display_name": "Python 3",
   "language": "python",
   "name": "python3"
  },
  "language_info": {
   "codemirror_mode": {
    "name": "ipython",
    "version": 3
   },
   "file_extension": ".py",
   "mimetype": "text/x-python",
   "name": "python",
   "nbconvert_exporter": "python",
   "pygments_lexer": "ipython3",
   "version": "3.7.6"
  },
  "toc": {
   "base_numbering": 1,
   "nav_menu": {},
   "number_sections": true,
   "sideBar": true,
   "skip_h1_title": false,
   "title_cell": "Table of Contents",
   "title_sidebar": "Contents",
   "toc_cell": false,
   "toc_position": {},
   "toc_section_display": true,
   "toc_window_display": false
  },
  "varInspector": {
   "cols": {
    "lenName": 16,
    "lenType": 16,
    "lenVar": 40
   },
   "kernels_config": {
    "python": {
     "delete_cmd_postfix": "",
     "delete_cmd_prefix": "del ",
     "library": "var_list.py",
     "varRefreshCmd": "print(var_dic_list())"
    },
    "r": {
     "delete_cmd_postfix": ") ",
     "delete_cmd_prefix": "rm(",
     "library": "var_list.r",
     "varRefreshCmd": "cat(var_dic_list()) "
    }
   },
   "types_to_exclude": [
    "module",
    "function",
    "builtin_function_or_method",
    "instance",
    "_Feature"
   ],
   "window_display": false
  }
 },
 "nbformat": 4,
 "nbformat_minor": 4
}
