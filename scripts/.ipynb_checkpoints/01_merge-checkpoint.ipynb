{
 "cells": [
  {
   "cell_type": "code",
   "execution_count": 1,
   "metadata": {
    "ExecuteTime": {
     "end_time": "2020-09-15T04:40:14.770764Z",
     "start_time": "2020-09-15T04:40:14.589725Z"
    }
   },
   "outputs": [],
   "source": [
    "import os\n",
    "import pandas as pd"
   ]
  },
  {
   "cell_type": "code",
   "execution_count": 57,
   "metadata": {
    "ExecuteTime": {
     "end_time": "2020-09-15T06:10:00.238684Z",
     "start_time": "2020-09-15T06:10:00.221680Z"
    }
   },
   "outputs": [],
   "source": [
    "pd.set_option('display.max_rows', 500)\n",
    "pd.set_option('display.max_columns', 50)"
   ]
  },
  {
   "cell_type": "code",
   "execution_count": 3,
   "metadata": {
    "ExecuteTime": {
     "end_time": "2020-09-15T04:40:15.504931Z",
     "start_time": "2020-09-15T04:40:15.499931Z"
    }
   },
   "outputs": [],
   "source": [
    "RAW_FILEPATH = os.path.join('..', 'raw')"
   ]
  },
  {
   "cell_type": "markdown",
   "metadata": {},
   "source": [
    "### Read in DIME and Voteview"
   ]
  },
  {
   "cell_type": "markdown",
   "metadata": {},
   "source": [
    "**Read in voteview** (https://voteview.com/articles/data_help_members)"
   ]
  },
  {
   "cell_type": "code",
   "execution_count": 70,
   "metadata": {
    "ExecuteTime": {
     "end_time": "2020-09-15T11:19:20.608514Z",
     "start_time": "2020-09-15T11:19:13.101823Z"
    },
    "code_folding": []
   },
   "outputs": [
    {
     "data": {
      "text/plain": [
       "12406"
      ]
     },
     "execution_count": 70,
     "metadata": {},
     "output_type": "execute_result"
    }
   ],
   "source": [
    "VV_IDENTIFIERS = ['icpsr', 'bioname', 'congress', 'chamber']\n",
    "VV_IDEO = ['nominate_dim1', 'nominate_log_likelihood', 'nominate_geo_mean_probability', 'nokken_poole_dim1']\n",
    "VV_USECOLS = VV_IDENTIFIERS + VV_IDEO\n",
    "\n",
    "vv = pd.read_csv(os.path.join(RAW_FILEPATH, 'HSall_members.csv'), usecols=VV_USECOLS)\n",
    "\n",
    "vv['icpsr'] = vv['icpsr'].astype('str')\n",
    "\n",
    "vv.sort_values(by=['congress', 'icpsr'], ascending=True, inplace=True)\n",
    "\n",
    "# Fill forward, retain latest scores where available\n",
    "for col in  VV_IDEO:\n",
    "    vv[col] = vv.groupby('bioname')[col].apply(lambda x: x.ffill())\n",
    "\n",
    "# Retain lastest obs\n",
    "vv = vv.groupby('icpsr').tail(1)"
   ]
  },
  {
   "cell_type": "markdown",
   "metadata": {},
   "source": [
    "**Read in DIME**"
   ]
  },
  {
   "cell_type": "code",
   "execution_count": 82,
   "metadata": {
    "ExecuteTime": {
     "end_time": "2020-09-15T11:28:57.934769Z",
     "start_time": "2020-09-15T11:28:31.322698Z"
    }
   },
   "outputs": [
    {
     "name": "stderr",
     "output_type": "stream",
     "text": [
      "D:\\ProgramData\\Anaconda3\\lib\\site-packages\\IPython\\core\\interactiveshell.py:3063: DtypeWarning: Columns (18,21) have mixed types.Specify dtype option on import or set low_memory=False.\n",
      "  interactivity=interactivity, compiler=compiler, result=result)\n"
     ]
    },
    {
     "data": {
      "text/plain": [
       "70434"
      ]
     },
     "execution_count": 82,
     "metadata": {},
     "output_type": "execute_result"
    }
   ],
   "source": [
    "DIME_IDENTIFIERS = ['cycle', 'name', 'ICPSR2', 'party', 'state', 'seat', 'district']\n",
    "DIME_IDEOLOGIES = ['recipient.cfscore.dyn', 'dwdime']\n",
    "DIME_USECOLS = DIME_IDENTIFIERS + DIME_IDEOLOGIES\n",
    "\n",
    "dime = pd.read_csv(os.path.join(RAW_FILEPATH, 'dime_recipients_1979_2014.csv'), usecols=DIME_USECOLS)\n",
    "\n",
    "# Drop committees (cf codebook p. 17)\n",
    "dime = dime[~dime['seat'].isin(['federal:committee', 'state:committee', 'federal:527'])]\n",
    "\n",
    "dime.columns = [col.lower() for col in dime.columns]\n",
    "\n",
    "dime.sort_values(by=['cycle', 'icpsr2'], ascending=True, inplace=True)\n",
    "\n",
    "# Fill forward, retain latest scores where available\n",
    "for col in  DIME_IDEOLOGIES:\n",
    "    dime[col] = dime.groupby('name')[col].apply(lambda x: x.ffill())\n",
    "\n",
    "# Remove nominee from ICPSR (only for seem fpr presidential candidates)\n",
    "dime['icpsr2'] = [s.replace('nominee', '') for s in dime['icpsr2']]\n",
    "\n",
    "# Retain last\n",
    "dime = dime.groupby('icpsr2').tail(1)\n",
    "\n",
    "dime.rename(columns={'icpsr2': 'icpsr'}, inplace=True)"
   ]
  },
  {
   "cell_type": "markdown",
   "metadata": {},
   "source": [
    "### Merge"
   ]
  },
  {
   "cell_type": "code",
   "execution_count": 83,
   "metadata": {
    "ExecuteTime": {
     "end_time": "2020-09-15T11:29:04.783472Z",
     "start_time": "2020-09-15T11:29:04.659439Z"
    },
    "scrolled": true
   },
   "outputs": [
    {
     "data": {
      "text/plain": [
       "80982"
      ]
     },
     "execution_count": 83,
     "metadata": {},
     "output_type": "execute_result"
    }
   ],
   "source": [
    "df = dime.merge(vv, how='outer', on='icpsr', indicator=True)\n",
    "\n",
    "len(df)"
   ]
  },
  {
   "cell_type": "code",
   "execution_count": 84,
   "metadata": {
    "ExecuteTime": {
     "end_time": "2020-09-15T11:29:10.303026Z",
     "start_time": "2020-09-15T11:29:10.299025Z"
    }
   },
   "outputs": [
    {
     "data": {
      "text/plain": [
       "Index(['cycle', 'icpsr', 'name', 'party', 'state', 'seat', 'district',\n",
       "       'recipient.cfscore.dyn', 'dwdime', 'congress', 'chamber', 'bioname',\n",
       "       'nominate_dim1', 'nominate_log_likelihood',\n",
       "       'nominate_geo_mean_probability', 'nokken_poole_dim1', '_merge'],\n",
       "      dtype='object')"
      ]
     },
     "execution_count": 84,
     "metadata": {},
     "output_type": "execute_result"
    }
   ],
   "source": [
    "df.columns"
   ]
  },
  {
   "cell_type": "code",
   "execution_count": null,
   "metadata": {},
   "outputs": [],
   "source": []
  }
 ],
 "metadata": {
  "kernelspec": {
   "display_name": "Python 3",
   "language": "python",
   "name": "python3"
  },
  "language_info": {
   "codemirror_mode": {
    "name": "ipython",
    "version": 2
   },
   "file_extension": ".py",
   "mimetype": "text/x-python",
   "name": "python",
   "nbconvert_exporter": "python",
   "pygments_lexer": "ipython2",
   "version": "2.7.14"
  },
  "toc": {
   "nav_menu": {},
   "number_sections": true,
   "sideBar": true,
   "skip_h1_title": false,
   "title_cell": "Table of Contents",
   "title_sidebar": "Contents",
   "toc_cell": false,
   "toc_position": {
    "height": "calc(100% - 180px)",
    "left": "10px",
    "top": "150px",
    "width": "254px"
   },
   "toc_section_display": true,
   "toc_window_display": true
  },
  "varInspector": {
   "cols": {
    "lenName": 16,
    "lenType": 16,
    "lenVar": 40
   },
   "kernels_config": {
    "python": {
     "delete_cmd_postfix": "",
     "delete_cmd_prefix": "del ",
     "library": "var_list.py",
     "varRefreshCmd": "print(var_dic_list())"
    },
    "r": {
     "delete_cmd_postfix": ") ",
     "delete_cmd_prefix": "rm(",
     "library": "var_list.r",
     "varRefreshCmd": "cat(var_dic_list()) "
    }
   },
   "position": {
    "height": "690px",
    "left": "1542.83px",
    "right": "20px",
    "top": "32.9844px",
    "width": "350px"
   },
   "types_to_exclude": [
    "module",
    "function",
    "builtin_function_or_method",
    "instance",
    "_Feature"
   ],
   "window_display": true
  }
 },
 "nbformat": 4,
 "nbformat_minor": 2
}
